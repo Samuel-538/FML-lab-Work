{
  "nbformat": 4,
  "nbformat_minor": 0,
  "metadata": {
    "colab": {
      "provenance": [],
      "authorship_tag": "ABX9TyOf3dmtjUpbRtnCEXngLQCr",
      "include_colab_link": true
    },
    "kernelspec": {
      "name": "python3",
      "display_name": "Python 3"
    },
    "language_info": {
      "name": "python"
    }
  },
  "cells": [
    {
      "cell_type": "markdown",
      "metadata": {
        "id": "view-in-github",
        "colab_type": "text"
      },
      "source": [
        "<a href=\"https://colab.research.google.com/github/Samuel-538/FML-lab-Work/blob/main/noise_removal_on_text.ipynb\" target=\"_parent\"><img src=\"https://colab.research.google.com/assets/colab-badge.svg\" alt=\"Open In Colab\"/></a>"
      ]
    },
    {
      "cell_type": "code",
      "source": [
        "import nltk\n",
        "nltk.download('punkt')\n",
        "nltk.download('stopwords')"
      ],
      "metadata": {
        "id": "GrJeL6kl0-7v",
        "colab": {
          "base_uri": "https://localhost:8080/"
        },
        "outputId": "73dbb0a8-6e31-4d46-ef9a-54d2c43a32b4"
      },
      "execution_count": 1,
      "outputs": [
        {
          "output_type": "stream",
          "name": "stderr",
          "text": [
            "[nltk_data] Downloading package punkt to /root/nltk_data...\n",
            "[nltk_data]   Unzipping tokenizers/punkt.zip.\n",
            "[nltk_data] Downloading package stopwords to /root/nltk_data...\n",
            "[nltk_data]   Unzipping corpora/stopwords.zip.\n"
          ]
        },
        {
          "output_type": "execute_result",
          "data": {
            "text/plain": [
              "True"
            ]
          },
          "metadata": {},
          "execution_count": 1
        }
      ]
    },
    {
      "cell_type": "code",
      "source": [
        "import nltk\n",
        "from nltk.corpus import stopwords\n",
        "from nltk.tokenize import word_tokenize\n",
        "import string"
      ],
      "metadata": {
        "id": "2bQHK3mP85LO"
      },
      "execution_count": 3,
      "outputs": []
    },
    {
      "cell_type": "code",
      "source": [
        "def remove_pun(sent):\n",
        "  for i in sent:\n",
        "    if i in string.punctuation:\n",
        "      sent = sent.replace(i,\"\")\n",
        "  return sent\n",
        "\n",
        "def remove_stopwords(sentence):\n",
        "  stop_words = set(stopwords.words('english'))\n",
        "  word_tokens = word_tokenize(sentence)\n",
        "  filtered_sentence = []\n",
        "  for w in word_tokens:\n",
        "    if w not in stop_words:\n",
        "      filtered_sentence.append(w)\n",
        "  return filtered_sentence\n",
        "\n",
        "example = \"\"\"Born in 1981, Mahendra Singh Dhoni belonged to a simple family. His ambition to become a noted sportsperson made him one of the best Indian captains in cricketing history. In this short essay on MS Dhoni in English, we will read about his achievements.\"\"\"\n",
        "\n",
        "print(f\"Original Sentence : \\n{example}\")\n",
        "example = remove_pun(example)\n",
        "print(f\"\\nSentence after removing punctuations : \\n{example}\")\n",
        "example = \" \".join(remove_stopwords(example))\n",
        "print(f\"\\nSentence after removing stopwords : \\n{example}\")"
      ],
      "metadata": {
        "id": "j8IRYzEMse1M",
        "colab": {
          "base_uri": "https://localhost:8080/"
        },
        "outputId": "dad70e86-ce6b-4412-dde8-f4808993f75a"
      },
      "execution_count": 5,
      "outputs": [
        {
          "output_type": "stream",
          "name": "stdout",
          "text": [
            "Original Sentence : \n",
            "Born in 1981, Mahendra Singh Dhoni belonged to a simple family. His ambition to become a noted sportsperson made him one of the best Indian captains in cricketing history. In this short essay on MS Dhoni in English, we will read about his achievements.\n",
            "\n",
            "Sentence after removing punctuations : \n",
            "Born in 1981 Mahendra Singh Dhoni belonged to a simple family His ambition to become a noted sportsperson made him one of the best Indian captains in cricketing history In this short essay on MS Dhoni in English we will read about his achievements\n",
            "\n",
            "Sentence after removing stopwords : \n",
            "Born 1981 Mahendra Singh Dhoni belonged simple family His ambition become noted sportsperson made one best Indian captains cricketing history In short essay MS Dhoni English read achievements\n"
          ]
        }
      ]
    },
    {
      "cell_type": "code",
      "source": [],
      "metadata": {
        "id": "e3HXv1UgviPr"
      },
      "execution_count": null,
      "outputs": []
    }
  ]
}